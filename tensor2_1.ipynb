{
  "nbformat": 4,
  "nbformat_minor": 0,
  "metadata": {
    "colab": {
      "name": "tensor2_1.ipynb",
      "provenance": [],
      "collapsed_sections": [],
      "authorship_tag": "ABX9TyPGiVvOltwd5Kv+nFHyJNoT",
      "include_colab_link": true
    },
    "kernelspec": {
      "name": "python3",
      "display_name": "Python 3"
    }
  },
  "cells": [
    {
      "cell_type": "markdown",
      "metadata": {
        "id": "view-in-github",
        "colab_type": "text"
      },
      "source": [
        "<a href=\"https://colab.research.google.com/github/harim4422/tensorflow2_deeplearning/blob/master/tensor2_1.ipynb\" target=\"_parent\"><img src=\"https://colab.research.google.com/assets/colab-badge.svg\" alt=\"Open In Colab\"/></a>"
      ]
    },
    {
      "cell_type": "code",
      "metadata": {
        "id": "u80HjuI5BFmP",
        "colab_type": "code",
        "outputId": "b774385b-9831-45ca-9d10-ade566d2b8da",
        "colab": {
          "base_uri": "https://localhost:8080/",
          "height": 34
        }
      },
      "source": [
        "print('Hello World')"
      ],
      "execution_count": 0,
      "outputs": [
        {
          "output_type": "stream",
          "text": [
            "Hello World\n"
          ],
          "name": "stdout"
        }
      ]
    },
    {
      "cell_type": "code",
      "metadata": {
        "id": "odnxev5sBt6y",
        "colab_type": "code",
        "outputId": "133864ca-a8b0-4d4f-8cfe-41808f8f39cc",
        "colab": {
          "base_uri": "https://localhost:8080/",
          "height": 34
        }
      },
      "source": [
        "try:\n",
        "  %tensorflow_version 2.x\n",
        "except Exception:\n",
        "  pass\n",
        "import tensorflow as tf"
      ],
      "execution_count": 0,
      "outputs": [
        {
          "output_type": "stream",
          "text": [
            "TensorFlow 2.x selected.\n"
          ],
          "name": "stdout"
        }
      ]
    },
    {
      "cell_type": "code",
      "metadata": {
        "id": "IZtONxckFJYg",
        "colab_type": "code",
        "outputId": "4886cc20-779b-4904-d4e2-54646ccad66f",
        "colab": {
          "base_uri": "https://localhost:8080/",
          "height": 34
        }
      },
      "source": [
        "print(tf.__version__)"
      ],
      "execution_count": 0,
      "outputs": [
        {
          "output_type": "stream",
          "text": [
            "2.1.0\n"
          ],
          "name": "stdout"
        }
      ]
    },
    {
      "cell_type": "code",
      "metadata": {
        "id": "wxZegLuxFRNI",
        "colab_type": "code",
        "outputId": "00c4f520-eab5-43df-c1df-e147e8c927e0",
        "colab": {
          "base_uri": "https://localhost:8080/",
          "height": 34
        }
      },
      "source": [
        "rnd = tf.random.uniform([1],0,1)\n",
        "print(rnd)"
      ],
      "execution_count": 0,
      "outputs": [
        {
          "output_type": "stream",
          "text": [
            "tf.Tensor([0.6400062], shape=(1,), dtype=float32)\n"
          ],
          "name": "stdout"
        }
      ]
    },
    {
      "cell_type": "code",
      "metadata": {
        "id": "Rc8VvZ3WVueX",
        "colab_type": "code",
        "outputId": "7ecb600a-13a4-466d-aba2-245508523e0f",
        "colab": {
          "base_uri": "https://localhost:8080/",
          "height": 34
        }
      },
      "source": [
        "rnd = tf.random.normal([1],0,1)\n",
        "print(rnd)"
      ],
      "execution_count": 0,
      "outputs": [
        {
          "output_type": "stream",
          "text": [
            "tf.Tensor([-0.05743957], shape=(1,), dtype=float32)\n"
          ],
          "name": "stdout"
        }
      ]
    },
    {
      "cell_type": "code",
      "metadata": {
        "id": "yJwiceGi4jCP",
        "colab_type": "code",
        "colab": {}
      },
      "source": [
        "import math\n",
        "def sigmoid(x):\n",
        "  return 1/(1+math.exp(-x))"
      ],
      "execution_count": 0,
      "outputs": []
    },
    {
      "cell_type": "code",
      "metadata": {
        "id": "BzsU_0Tr7LJY",
        "colab_type": "code",
        "colab": {}
      },
      "source": [
        "import numpy as np\n",
        "def ReLU(x):\n",
        "  return np.maximum(0,x)"
      ],
      "execution_count": 0,
      "outputs": []
    },
    {
      "cell_type": "code",
      "metadata": {
        "id": "zsH3KdA36Bcb",
        "colab_type": "code",
        "outputId": "a29dd30e-0125-4788-d0a8-4f0f400cf882",
        "colab": {
          "base_uri": "https://localhost:8080/",
          "height": 34
        }
      },
      "source": [
        "x = 1\n",
        "y = 0\n",
        "w = tf.random.normal([1], 0, 1)\n",
        "output = sigmoid(x*w)\n",
        "print(output)"
      ],
      "execution_count": 0,
      "outputs": [
        {
          "output_type": "stream",
          "text": [
            "0.35649061810734456\n"
          ],
          "name": "stdout"
        }
      ]
    },
    {
      "cell_type": "code",
      "metadata": {
        "id": "gDQKyraq7HmP",
        "colab_type": "code",
        "outputId": "f0e91d0b-7a18-488c-ac3f-e1b846ac225e",
        "colab": {
          "base_uri": "https://localhost:8080/",
          "height": 34
        }
      },
      "source": [
        "x = 1\n",
        "y = 0\n",
        "w = tf.random.normal([1], 0, 1)\n",
        "output = ReLU(x*w)\n",
        "print(output)"
      ],
      "execution_count": 0,
      "outputs": [
        {
          "output_type": "stream",
          "text": [
            "[0.32305184]\n"
          ],
          "name": "stdout"
        }
      ]
    },
    {
      "cell_type": "code",
      "metadata": {
        "id": "zIAXTMES4sqf",
        "colab_type": "code",
        "outputId": "8c2cab0d-4fe4-4610-9053-90b030a82b2d",
        "colab": {
          "base_uri": "https://localhost:8080/",
          "height": 193
        }
      },
      "source": [
        "x = 1\n",
        "y = 0\n",
        "w = tf.random.normal([1],0,1)\n",
        "a = 0.1\n",
        "for i in range(1000):\n",
        "  output = sigmoid(x*w)\n",
        "  err = y - output\n",
        "  w = w + x*a*err\n",
        "  if i%100 == 99:\n",
        "    print(i, err, output)\n"
      ],
      "execution_count": 0,
      "outputs": [
        {
          "output_type": "stream",
          "text": [
            "99 -0.07826027471234971 0.07826027471234971\n",
            "199 -0.04501055065048115 0.04501055065048115\n",
            "299 -0.03138694512975029 0.03138694512975029\n",
            "399 -0.024038803953970598 0.024038803953970598\n",
            "499 -0.019457566591748267 0.019457566591748267\n",
            "599 -0.016333331281200302 0.016333331281200302\n",
            "699 -0.014068560260263914 0.014068560260263914\n",
            "799 -0.012352523740373997 0.012352523740373997\n",
            "899 -0.01100784339596606 0.01100784339596606\n",
            "999 -0.00992605700467422 0.00992605700467422\n"
          ],
          "name": "stdout"
        }
      ]
    },
    {
      "cell_type": "code",
      "metadata": {
        "id": "5R68lg1oFgOF",
        "colab_type": "code",
        "outputId": "1ca9092f-2657-454d-c12b-365c5967c1c4",
        "colab": {
          "base_uri": "https://localhost:8080/",
          "height": 193
        }
      },
      "source": [
        "x = 1\n",
        "y = 0\n",
        "w = tf.random.normal([1],0,1)\n",
        "a = 0.1\n",
        "for i in range(1000):\n",
        "  output = ReLU(x*w)\n",
        "  err = y - output\n",
        "  w = w + x*a*err\n",
        "  if i%100 == 99:\n",
        "    print(i, err[0], output[0])"
      ],
      "execution_count": 0,
      "outputs": [
        {
          "output_type": "stream",
          "text": [
            "99 -1.4134086e-05 1.4134086e-05\n",
            "199 -3.754211e-10 3.754211e-10\n",
            "299 -9.971711e-15 9.971711e-15\n",
            "399 -2.6486253e-19 2.6486253e-19\n",
            "499 -7.035118e-24 7.035118e-24\n",
            "599 -1.8686256e-28 1.8686256e-28\n",
            "699 -4.9633317e-33 4.9633317e-33\n",
            "799 -1.3183304e-37 1.3183304e-37\n",
            "899 -3.5e-42 3.5e-42\n",
            "999 -6e-45 6e-45\n"
          ],
          "name": "stdout"
        }
      ]
    },
    {
      "cell_type": "code",
      "metadata": {
        "id": "q3ySE6vnGF6Y",
        "colab_type": "code",
        "outputId": "bf004d75-cf2e-4c27-ba78-e2582c55c26f",
        "colab": {
          "base_uri": "https://localhost:8080/",
          "height": 193
        }
      },
      "source": [
        "x = 0\n",
        "y = 1\n",
        "w = tf.random.normal([1],0,1)\n",
        "a = 0.1\n",
        "for i in range(1000):\n",
        "  output = sigmoid(x*w)\n",
        "  err = y - output\n",
        "  w = w + x*a*err\n",
        "  if i%100 == 99:\n",
        "    print(i, err, output)"
      ],
      "execution_count": 0,
      "outputs": [
        {
          "output_type": "stream",
          "text": [
            "99 0.5 0.5\n",
            "199 0.5 0.5\n",
            "299 0.5 0.5\n",
            "399 0.5 0.5\n",
            "499 0.5 0.5\n",
            "599 0.5 0.5\n",
            "699 0.5 0.5\n",
            "799 0.5 0.5\n",
            "899 0.5 0.5\n",
            "999 0.5 0.5\n"
          ],
          "name": "stdout"
        }
      ]
    },
    {
      "cell_type": "code",
      "metadata": {
        "id": "RvK_t4uzGuYu",
        "colab_type": "code",
        "outputId": "8fa2419a-328b-4b86-8f44-333f14aefe13",
        "colab": {
          "base_uri": "https://localhost:8080/",
          "height": 193
        }
      },
      "source": [
        "x = 0\n",
        "y = 1\n",
        "w = tf.random.normal([1],0,1)\n",
        "b = tf.random.normal([1],0,1)\n",
        "a = 0.1\n",
        "for i in range(1000):\n",
        "  output = sigmoid(x*w+b)\n",
        "  err = y - output\n",
        "  w = w + x*a*err\n",
        "  b = b + a*err\n",
        "  if i%100 == 99:\n",
        "    print(i, err, output)"
      ],
      "execution_count": 0,
      "outputs": [
        {
          "output_type": "stream",
          "text": [
            "99 0.10482459215279771 0.8951754078472023\n",
            "199 0.05308617131736748 0.9469138286826325\n",
            "299 0.03517705388455172 0.9648229461154483\n",
            "399 0.026219739299998435 0.9737802607000016\n",
            "499 0.020869478384572204 0.9791305216154278\n",
            "599 0.017320162300564323 0.9826798376994357\n",
            "699 0.01479640722464004 0.98520359277536\n",
            "799 0.012911098941008392 0.9870889010589916\n",
            "899 0.011449896592999664 0.9885501034070003\n",
            "999 0.010284480658518502 0.9897155193414815\n"
          ],
          "name": "stdout"
        }
      ]
    },
    {
      "cell_type": "code",
      "metadata": {
        "id": "NkNMBC-6J09N",
        "colab_type": "code",
        "outputId": "a480905b-8e56-4bed-d011-a38b4cf978c7",
        "colab": {
          "base_uri": "https://localhost:8080/",
          "height": 193
        }
      },
      "source": [
        "x = 0\n",
        "y = 1\n",
        "w = tf.random.normal([1],0,1)\n",
        "b = tf.random.normal([1],0,1)\n",
        "a = 0.1\n",
        "for i in range(1000):\n",
        "  output = ReLU(x*w+b)\n",
        "  err = y - output\n",
        "  w = w + x*a*err\n",
        "  b = b + a*err\n",
        "  if i%100 == 99:\n",
        "    print(i, err[0], output[0])"
      ],
      "execution_count": 0,
      "outputs": [
        {
          "output_type": "stream",
          "text": [
            "99 1.3530254e-05 0.99998647\n",
            "199 2.3841858e-07 0.99999976\n",
            "299 2.3841858e-07 0.99999976\n",
            "399 2.3841858e-07 0.99999976\n",
            "499 2.3841858e-07 0.99999976\n",
            "599 2.3841858e-07 0.99999976\n",
            "699 2.3841858e-07 0.99999976\n",
            "799 2.3841858e-07 0.99999976\n",
            "899 2.3841858e-07 0.99999976\n",
            "999 2.3841858e-07 0.99999976\n"
          ],
          "name": "stdout"
        }
      ]
    }
  ]
}