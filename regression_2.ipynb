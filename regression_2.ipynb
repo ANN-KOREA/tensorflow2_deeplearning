{
  "nbformat": 4,
  "nbformat_minor": 0,
  "metadata": {
    "colab": {
      "name": "regression_2.ipynb",
      "provenance": [],
      "authorship_tag": "ABX9TyMfK2E5X1qKqB9LXyB1AwYu",
      "include_colab_link": true
    },
    "kernelspec": {
      "name": "python3",
      "display_name": "Python 3"
    },
    "accelerator": "TPU"
  },
  "cells": [
    {
      "cell_type": "markdown",
      "metadata": {
        "id": "view-in-github",
        "colab_type": "text"
      },
      "source": [
        "<a href=\"https://colab.research.google.com/github/harim4422/tensorflow2_deeplearning/blob/master/regression_2.ipynb\" target=\"_parent\"><img src=\"https://colab.research.google.com/assets/colab-badge.svg\" alt=\"Open In Colab\"/></a>"
      ]
    },
    {
      "cell_type": "code",
      "metadata": {
        "id": "STdOBFYu6hRc",
        "colab_type": "code",
        "colab": {
          "base_uri": "https://localhost:8080/",
          "height": 34
        },
        "outputId": "8152efbd-ace8-4af5-9d08-290a62c27b80"
      },
      "source": [
        "try:\n",
        "  %tensorflow_version 2.x\n",
        "except Exception:\n",
        "  pass"
      ],
      "execution_count": 1,
      "outputs": [
        {
          "output_type": "stream",
          "text": [
            "TensorFlow 2.x selected.\n"
          ],
          "name": "stdout"
        }
      ]
    },
    {
      "cell_type": "code",
      "metadata": {
        "id": "uFeq9qLY6kS9",
        "colab_type": "code",
        "colab": {}
      },
      "source": [
        "import tensorflow as tf\n",
        "import numpy as np\n",
        "import matplotlib.pyplot as plt"
      ],
      "execution_count": 0,
      "outputs": []
    },
    {
      "cell_type": "code",
      "metadata": {
        "id": "kp53im2C6min",
        "colab_type": "code",
        "colab": {}
      },
      "source": [
        "x = 2 * np.random.rand(100, 1)\n",
        "y = 4 + 3 * x + np.random.randn(100, 1)"
      ],
      "execution_count": 0,
      "outputs": []
    },
    {
      "cell_type": "code",
      "metadata": {
        "id": "yp7wSTVE6va9",
        "colab_type": "code",
        "colab": {
          "base_uri": "https://localhost:8080/",
          "height": 265
        },
        "outputId": "faba8fa4-f401-455f-9be8-f074d739472f"
      },
      "source": [
        "plt.plot(x, y, 'bo')\n",
        "plt.show()"
      ],
      "execution_count": 4,
      "outputs": [
        {
          "output_type": "display_data",
          "data": {
            "image/png": "[encoded data removed]",
            "text/plain": [
              "<Figure size 432x288 with 1 Axes>"
            ]
          },
          "metadata": {
            "tags": []
          }
        }
      ]
    },
    {
      "cell_type": "code",
      "metadata": {
        "id": "CQC3PLNw6w9K",
        "colab_type": "code",
        "colab": {
          "base_uri": "https://localhost:8080/",
          "height": 228
        },
        "outputId": "8cabc29c-e94c-4f6e-d7c9-6dd607370272"
      },
      "source": [
        "model = tf.keras.Sequential([\n",
        "                             tf.keras.layers.Dense(units=6, activation='tanh',input_shape=(1,)),\n",
        "                             tf.keras.layers.Dense(units=1)\n",
        "])\n",
        "\n",
        "model.compile(optimizer=tf.keras.optimizers.SGD(lr=0.1), loss='mse')\n",
        "\n",
        "model.summary()"
      ],
      "execution_count": 5,
      "outputs": [
        {
          "output_type": "stream",
          "text": [
            "Model: \"sequential\"\n",
            "_________________________________________________________________\n",
            "Layer (type)                 Output Shape              Param #   \n",
            "=================================================================\n",
            "dense (Dense)                (None, 6)                 12        \n",
            "_________________________________________________________________\n",
            "dense_1 (Dense)              (None, 1)                 7         \n",
            "=================================================================\n",
            "Total params: 19\n",
            "Trainable params: 19\n",
            "Non-trainable params: 0\n",
            "_________________________________________________________________\n"
          ],
          "name": "stdout"
        }
      ]
    },
    {
      "cell_type": "code",
      "metadata": {
        "id": "j3iLF3EC7Sxf",
        "colab_type": "code",
        "colab": {
          "base_uri": "https://localhost:8080/",
          "height": 1000
        },
        "outputId": "1b9441dc-a261-4444-ae2a-1571c168a418"
      },
      "source": [
        "history = model.fit(x, y, epochs=100)"
      ],
      "execution_count": 13,
      "outputs": [
        {
          "output_type": "stream",
          "text": [
            "Train on 100 samples\n",
            "Epoch 1/100\n",
            "100/100 [==============================] - 0s 143us/sample - loss: 0.9737\n",
            "Epoch 2/100\n",
            "100/100 [==============================] - 0s 124us/sample - loss: 0.9034\n",
            "Epoch 3/100\n",
            "100/100 [==============================] - 0s 127us/sample - loss: 0.8642\n",
            "Epoch 4/100\n",
            "100/100 [==============================] - 0s 125us/sample - loss: 1.1935\n",
            "Epoch 5/100\n",
            "100/100 [==============================] - 0s 129us/sample - loss: 0.9225\n",
            "Epoch 6/100\n",
            "100/100 [==============================] - 0s 137us/sample - loss: 0.9082\n",
            "Epoch 7/100\n",
            "100/100 [==============================] - 0s 125us/sample - loss: 0.8759\n",
            "Epoch 8/100\n",
            "100/100 [==============================] - 0s 99us/sample - loss: 1.0590\n",
            "Epoch 9/100\n",
            "100/100 [==============================] - 0s 121us/sample - loss: 0.8488\n",
            "Epoch 10/100\n",
            "100/100 [==============================] - 0s 96us/sample - loss: 0.8469\n",
            "Epoch 11/100\n",
            "100/100 [==============================] - 0s 120us/sample - loss: 1.0255\n",
            "Epoch 12/100\n",
            "100/100 [==============================] - 0s 103us/sample - loss: 0.8906\n",
            "Epoch 13/100\n",
            "100/100 [==============================] - 0s 102us/sample - loss: 0.8338\n",
            "Epoch 14/100\n",
            "100/100 [==============================] - 0s 118us/sample - loss: 0.8334\n",
            "Epoch 15/100\n",
            "100/100 [==============================] - 0s 122us/sample - loss: 0.8770\n",
            "Epoch 16/100\n",
            "100/100 [==============================] - 0s 114us/sample - loss: 0.8968\n",
            "Epoch 17/100\n",
            "100/100 [==============================] - 0s 138us/sample - loss: 0.8599\n",
            "Epoch 18/100\n",
            "100/100 [==============================] - 0s 117us/sample - loss: 0.8196\n",
            "Epoch 19/100\n",
            "100/100 [==============================] - 0s 161us/sample - loss: 1.0280\n",
            "Epoch 20/100\n",
            "100/100 [==============================] - 0s 112us/sample - loss: 0.9993\n",
            "Epoch 21/100\n",
            "100/100 [==============================] - 0s 126us/sample - loss: 0.8852\n",
            "Epoch 22/100\n",
            "100/100 [==============================] - 0s 155us/sample - loss: 0.8855\n",
            "Epoch 23/100\n",
            "100/100 [==============================] - 0s 165us/sample - loss: 0.8766\n",
            "Epoch 24/100\n",
            "100/100 [==============================] - 0s 149us/sample - loss: 0.8204\n",
            "Epoch 25/100\n",
            "100/100 [==============================] - 0s 119us/sample - loss: 0.8204\n",
            "Epoch 26/100\n",
            "100/100 [==============================] - 0s 119us/sample - loss: 0.9018\n",
            "Epoch 27/100\n",
            "100/100 [==============================] - 0s 146us/sample - loss: 0.9365\n",
            "Epoch 28/100\n",
            "100/100 [==============================] - 0s 162us/sample - loss: 0.8567\n",
            "Epoch 29/100\n",
            "100/100 [==============================] - 0s 146us/sample - loss: 0.8806\n",
            "Epoch 30/100\n",
            "100/100 [==============================] - 0s 120us/sample - loss: 0.8250\n",
            "Epoch 31/100\n",
            "100/100 [==============================] - 0s 133us/sample - loss: 0.8295\n",
            "Epoch 32/100\n",
            "100/100 [==============================] - 0s 129us/sample - loss: 0.8299\n",
            "Epoch 33/100\n",
            "100/100 [==============================] - 0s 111us/sample - loss: 0.8152\n",
            "Epoch 34/100\n",
            "100/100 [==============================] - 0s 174us/sample - loss: 0.8178\n",
            "Epoch 35/100\n",
            "100/100 [==============================] - 0s 138us/sample - loss: 0.9937\n",
            "Epoch 36/100\n",
            "100/100 [==============================] - 0s 131us/sample - loss: 0.8765\n",
            "Epoch 37/100\n",
            "100/100 [==============================] - 0s 125us/sample - loss: 0.9769\n",
            "Epoch 38/100\n",
            "100/100 [==============================] - 0s 122us/sample - loss: 1.1470\n",
            "Epoch 39/100\n",
            "100/100 [==============================] - 0s 125us/sample - loss: 0.8269\n",
            "Epoch 40/100\n",
            "100/100 [==============================] - 0s 133us/sample - loss: 0.9709\n",
            "Epoch 41/100\n",
            "100/100 [==============================] - 0s 131us/sample - loss: 1.0415\n",
            "Epoch 42/100\n",
            "100/100 [==============================] - 0s 124us/sample - loss: 0.8634\n",
            "Epoch 43/100\n",
            "100/100 [==============================] - 0s 116us/sample - loss: 0.8530\n",
            "Epoch 44/100\n",
            "100/100 [==============================] - 0s 117us/sample - loss: 0.8610\n",
            "Epoch 45/100\n",
            "100/100 [==============================] - 0s 106us/sample - loss: 0.8646\n",
            "Epoch 46/100\n",
            "100/100 [==============================] - 0s 115us/sample - loss: 0.8250\n",
            "Epoch 47/100\n",
            "100/100 [==============================] - 0s 110us/sample - loss: 0.9319\n",
            "Epoch 48/100\n",
            "100/100 [==============================] - 0s 107us/sample - loss: 0.8013\n",
            "Epoch 49/100\n",
            "100/100 [==============================] - 0s 117us/sample - loss: 0.8373\n",
            "Epoch 50/100\n",
            "100/100 [==============================] - 0s 146us/sample - loss: 0.8766\n",
            "Epoch 51/100\n",
            "100/100 [==============================] - 0s 146us/sample - loss: 0.8130\n",
            "Epoch 52/100\n",
            "100/100 [==============================] - 0s 137us/sample - loss: 0.8091\n",
            "Epoch 53/100\n",
            "100/100 [==============================] - 0s 126us/sample - loss: 1.0246\n",
            "Epoch 54/100\n",
            "100/100 [==============================] - 0s 131us/sample - loss: 0.8738\n",
            "Epoch 55/100\n",
            "100/100 [==============================] - 0s 120us/sample - loss: 0.8211\n",
            "Epoch 56/100\n",
            "100/100 [==============================] - 0s 113us/sample - loss: 1.1186\n",
            "Epoch 57/100\n",
            "100/100 [==============================] - 0s 101us/sample - loss: 0.9578\n",
            "Epoch 58/100\n",
            "100/100 [==============================] - 0s 119us/sample - loss: 0.9148\n",
            "Epoch 59/100\n",
            "100/100 [==============================] - 0s 114us/sample - loss: 1.0102\n",
            "Epoch 60/100\n",
            "100/100 [==============================] - 0s 103us/sample - loss: 0.8144\n",
            "Epoch 61/100\n",
            "100/100 [==============================] - 0s 109us/sample - loss: 0.8557\n",
            "Epoch 62/100\n",
            "100/100 [==============================] - 0s 121us/sample - loss: 0.9689\n",
            "Epoch 63/100\n",
            "100/100 [==============================] - 0s 132us/sample - loss: 0.8780\n",
            "Epoch 64/100\n",
            "100/100 [==============================] - 0s 120us/sample - loss: 0.8708\n",
            "Epoch 65/100\n",
            "100/100 [==============================] - 0s 118us/sample - loss: 0.8272\n",
            "Epoch 66/100\n",
            "100/100 [==============================] - 0s 125us/sample - loss: 0.8880\n",
            "Epoch 67/100\n",
            "100/100 [==============================] - 0s 99us/sample - loss: 0.8516\n",
            "Epoch 68/100\n",
            "100/100 [==============================] - 0s 109us/sample - loss: 0.8341\n",
            "Epoch 69/100\n",
            "100/100 [==============================] - 0s 122us/sample - loss: 0.8181\n",
            "Epoch 70/100\n",
            "100/100 [==============================] - 0s 144us/sample - loss: 0.8148\n",
            "Epoch 71/100\n",
            "100/100 [==============================] - 0s 135us/sample - loss: 0.8791\n",
            "Epoch 72/100\n",
            "100/100 [==============================] - 0s 115us/sample - loss: 0.8391\n",
            "Epoch 73/100\n",
            "100/100 [==============================] - 0s 105us/sample - loss: 0.8752\n",
            "Epoch 74/100\n",
            "100/100 [==============================] - 0s 106us/sample - loss: 0.8133\n",
            "Epoch 75/100\n",
            "100/100 [==============================] - 0s 114us/sample - loss: 0.8147\n",
            "Epoch 76/100\n",
            "100/100 [==============================] - 0s 115us/sample - loss: 0.9583\n",
            "Epoch 77/100\n",
            "100/100 [==============================] - 0s 120us/sample - loss: 0.8198\n",
            "Epoch 78/100\n",
            "100/100 [==============================] - 0s 133us/sample - loss: 0.8231\n",
            "Epoch 79/100\n",
            "100/100 [==============================] - 0s 139us/sample - loss: 1.2119\n",
            "Epoch 80/100\n",
            "100/100 [==============================] - 0s 167us/sample - loss: 0.8781\n",
            "Epoch 81/100\n",
            "100/100 [==============================] - 0s 151us/sample - loss: 0.9641\n",
            "Epoch 82/100\n",
            "100/100 [==============================] - 0s 145us/sample - loss: 0.8237\n",
            "Epoch 83/100\n",
            "100/100 [==============================] - 0s 133us/sample - loss: 0.8767\n",
            "Epoch 84/100\n",
            "100/100 [==============================] - 0s 122us/sample - loss: 0.9336\n",
            "Epoch 85/100\n",
            "100/100 [==============================] - 0s 120us/sample - loss: 0.8341\n",
            "Epoch 86/100\n",
            "100/100 [==============================] - 0s 123us/sample - loss: 0.8305\n",
            "Epoch 87/100\n",
            "100/100 [==============================] - 0s 130us/sample - loss: 0.8841\n",
            "Epoch 88/100\n",
            "100/100 [==============================] - 0s 117us/sample - loss: 0.8931\n",
            "Epoch 89/100\n",
            "100/100 [==============================] - 0s 108us/sample - loss: 0.9222\n",
            "Epoch 90/100\n",
            "100/100 [==============================] - 0s 115us/sample - loss: 0.8562\n",
            "Epoch 91/100\n",
            "100/100 [==============================] - 0s 121us/sample - loss: 0.8392\n",
            "Epoch 92/100\n",
            "100/100 [==============================] - 0s 126us/sample - loss: 0.8120\n",
            "Epoch 93/100\n",
            "100/100 [==============================] - 0s 161us/sample - loss: 0.8265\n",
            "Epoch 94/100\n",
            "100/100 [==============================] - 0s 120us/sample - loss: 0.8728\n",
            "Epoch 95/100\n",
            "100/100 [==============================] - 0s 177us/sample - loss: 0.9251\n",
            "Epoch 96/100\n",
            "100/100 [==============================] - 0s 120us/sample - loss: 0.8590\n",
            "Epoch 97/100\n",
            "100/100 [==============================] - 0s 113us/sample - loss: 0.9592\n",
            "Epoch 98/100\n",
            "100/100 [==============================] - 0s 109us/sample - loss: 0.8382\n",
            "Epoch 99/100\n",
            "100/100 [==============================] - 0s 103us/sample - loss: 0.8400\n",
            "Epoch 100/100\n",
            "100/100 [==============================] - 0s 125us/sample - loss: 0.8342\n"
          ],
          "name": "stdout"
        }
      ]
    },
    {
      "cell_type": "code",
      "metadata": {
        "id": "wwkJcQdD7hoj",
        "colab_type": "code",
        "colab": {
          "base_uri": "https://localhost:8080/",
          "height": 265
        },
        "outputId": "e3acfbcb-61d4-4f9d-96c4-1dd9450ced75"
      },
      "source": [
        "x_pred = np.arange(min(x), max(x), 0.01)\n",
        "y_pred = model.predict(x_pred)\n",
        "\n",
        "plt.plot(x, y, 'bo')\n",
        "plt.plot(x_pred, y_pred, 'r-')\n",
        "plt.show()"
      ],
      "execution_count": 14,
      "outputs": [
        {
          "output_type": "display_data",
          "data": {
            "image/png": "[encoded data removed]",
            "text/plain": [
              "<Figure size 432x288 with 1 Axes>"
            ]
          },
          "metadata": {
            "tags": []
          }
        }
      ]
    },
    {
      "cell_type": "code",
      "metadata": {
        "id": "caIwuEnX8Keq",
        "colab_type": "code",
        "colab": {
          "base_uri": "https://localhost:8080/",
          "height": 282
        },
        "outputId": "a5caa941-5c49-49d2-b872-2095c9b12e76"
      },
      "source": [
        "plt.plot(history.history['loss'])"
      ],
      "execution_count": 15,
      "outputs": [
        {
          "output_type": "execute_result",
          "data": {
            "text/plain": [
              "[<matplotlib.lines.Line2D at 0x7f6b342666d8>]"
            ]
          },
          "metadata": {
            "tags": []
          },
          "execution_count": 15
        },
        {
          "output_type": "display_data",
          "data": {
            "image/png": "[encoded data removed]",
            "text/plain": [
              "<Figure size 432x288 with 1 Axes>"
            ]
          },
          "metadata": {
            "tags": []
          }
        }
      ]
    }
  ]
}