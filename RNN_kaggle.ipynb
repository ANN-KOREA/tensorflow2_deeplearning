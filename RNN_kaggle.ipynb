{
  "nbformat": 4,
  "nbformat_minor": 0,
  "metadata": {
    "colab": {
      "name": "RNN_kaggle.ipynb",
      "provenance": [],
      "authorship_tag": "ABX9TyNRJnIq+fgF20Xb4cuFfGEq",
      "include_colab_link": true
    },
    "kernelspec": {
      "name": "python3",
      "display_name": "Python 3"
    },
    "accelerator": "GPU"
  },
  "cells": [
    {
      "cell_type": "markdown",
      "metadata": {
        "id": "view-in-github",
        "colab_type": "text"
      },
      "source": [
        "<a href=\"https://colab.research.google.com/github/harim4422/tensorflow2_deeplearning/blob/master/RNN_kaggle.ipynb\" target=\"_parent\"><img src=\"https://colab.research.google.com/assets/colab-badge.svg\" alt=\"Open In Colab\"/></a>"
      ]
    },
    {
      "cell_type": "code",
      "metadata": {
        "id": "7BPhIwqvva8a",
        "colab_type": "code",
        "outputId": "9e68ab58-3f56-4dd9-c540-9ac42dc6e33a",
        "colab": {
          "base_uri": "https://localhost:8080/",
          "height": 70
        }
      },
      "source": [
        "!mkdir -p ~/.kaggle\n",
        "!cp kaggle.json ~/.kaggle/\n",
        "# Permission Warning 이 일어나지 않도록 \n",
        "!chmod 600 ~/.kaggle/kaggle.json\n",
        "!kaggle datasets download -d crowdflower/first-gop-debate-twitter-sentiment"
      ],
      "execution_count": 0,
      "outputs": [
        {
          "output_type": "stream",
          "text": [
            "Downloading first-gop-debate-twitter-sentiment.zip to /content\n",
            "\r  0% 0.00/2.40M [00:00<?, ?B/s]\n",
            "\r100% 2.40M/2.40M [00:00<00:00, 79.8MB/s]\n"
          ],
          "name": "stdout"
        }
      ]
    },
    {
      "cell_type": "code",
      "metadata": {
        "id": "nhj0CDrhytVN",
        "colab_type": "code",
        "outputId": "62614ade-89f5-4a67-9c65-9122ed117104",
        "colab": {
          "base_uri": "https://localhost:8080/",
          "height": 70
        }
      },
      "source": [
        "!unzip first-gop-debate-twitter-sentiment.zip"
      ],
      "execution_count": 0,
      "outputs": [
        {
          "output_type": "stream",
          "text": [
            "Archive:  first-gop-debate-twitter-sentiment.zip\n",
            "  inflating: Sentiment.csv           \n",
            "  inflating: database.sqlite         \n"
          ],
          "name": "stdout"
        }
      ]
    },
    {
      "cell_type": "code",
      "metadata": {
        "id": "e99MP2Foyilv",
        "colab_type": "code",
        "outputId": "0e37a0d1-2c81-4ea0-9a81-dd8ffbc07ae7",
        "colab": {
          "base_uri": "https://localhost:8080/",
          "height": 52
        }
      },
      "source": [
        "!ls"
      ],
      "execution_count": 0,
      "outputs": [
        {
          "output_type": "stream",
          "text": [
            "database.sqlite\t\t\t\tkaggle.json  Sentiment.csv\n",
            "first-gop-debate-twitter-sentiment.zip\tsample_data\n"
          ],
          "name": "stdout"
        }
      ]
    },
    {
      "cell_type": "code",
      "metadata": {
        "id": "tZq9ND8MuoTK",
        "colab_type": "code",
        "outputId": "71b893b0-95fd-4582-b228-05439b490919",
        "colab": {
          "base_uri": "https://localhost:8080/",
          "height": 35
        }
      },
      "source": [
        "%tensorflow_version 2.x\n",
        "import tensorflow as tf\n",
        "import numpy as np\n",
        "import pandas as pd"
      ],
      "execution_count": 0,
      "outputs": [
        {
          "output_type": "stream",
          "text": [
            "TensorFlow 2.x selected.\n"
          ],
          "name": "stdout"
        }
      ]
    },
    {
      "cell_type": "code",
      "metadata": {
        "id": "QQIAbohlvjW2",
        "colab_type": "code",
        "colab": {}
      },
      "source": [
        "import re\n",
        "\n",
        "data = pd.read_csv('Sentiment.csv')\n",
        "data = data[['text', 'sentiment']]\n",
        "data = data[data.sentiment != \"Neutral\"]\n",
        "data['text'] = data['text'].apply(lambda x: x.lower())\n",
        "data['text'] = data['text'].apply((lambda x: re.sub('[^a-zA-z0-9\\s]','',x)))"
      ],
      "execution_count": 0,
      "outputs": []
    },
    {
      "cell_type": "code",
      "metadata": {
        "id": "fx_0SOB-zD1y",
        "colab_type": "code",
        "outputId": "3369fd02-6820-426f-e9f3-ec3d194f38e4",
        "colab": {
          "base_uri": "https://localhost:8080/",
          "height": 52
        }
      },
      "source": [
        "print(data[ data['sentiment'] == 'Positive'].size)\n",
        "print(data[ data['sentiment'] == 'Negative'].size)"
      ],
      "execution_count": 0,
      "outputs": [
        {
          "output_type": "stream",
          "text": [
            "4472\n",
            "16986\n"
          ],
          "name": "stdout"
        }
      ]
    },
    {
      "cell_type": "code",
      "metadata": {
        "id": "XGEGGHW3DTen",
        "colab_type": "code",
        "colab": {}
      },
      "source": [
        "from sklearn.model_selection import train_test_split\n",
        "\n",
        "for idx,row in data.iterrows():\n",
        "    row[0] = row[0].replace('rt',' ')\n",
        "    \n",
        "tokenizer = tf.keras.preprocessing.text.Tokenizer(num_words=2000, split=' ')\n",
        "tokenizer.fit_on_texts(data['text'].values)\n",
        "X = tokenizer.texts_to_sequences(data['text'].values)\n",
        "X = tf.keras.preprocessing.sequence.pad_sequences(X)\n",
        "\n",
        "Y = pd.get_dummies(data['sentiment']).values\n",
        "\n",
        "X_train, X_test, Y_train, Y_test = train_test_split(X,Y, test_size = 0.33, random_state = 42)"
      ],
      "execution_count": 0,
      "outputs": []
    },
    {
      "cell_type": "code",
      "metadata": {
        "id": "NvJd3S0lDXBn",
        "colab_type": "code",
        "outputId": "217e0707-5f61-40e3-f5c3-be1b258335d3",
        "colab": {
          "base_uri": "https://localhost:8080/",
          "height": 301
        }
      },
      "source": [
        "model = tf.keras.Sequential([\n",
        "                             tf.keras.layers.Embedding(2000, 128, input_length=X.shape[1]),\n",
        "                             tf.keras.layers.SpatialDropout1D(0.4),\n",
        "                             tf.keras.layers.LSTM(196, dropout=0.2, recurrent_dropout=0.2),\n",
        "                             tf.keras.layers.Dense(2, activation='softmax')\n",
        "])\n",
        "\n",
        "model.compile(loss = 'categorical_crossentropy', optimizer='adam',metrics = ['accuracy'])\n",
        "model.summary()"
      ],
      "execution_count": 0,
      "outputs": [
        {
          "output_type": "stream",
          "text": [
            "Model: \"sequential_3\"\n",
            "_________________________________________________________________\n",
            "Layer (type)                 Output Shape              Param #   \n",
            "=================================================================\n",
            "embedding_3 (Embedding)      (None, 28, 128)           256000    \n",
            "_________________________________________________________________\n",
            "spatial_dropout1d_3 (Spatial (None, 28, 128)           0         \n",
            "_________________________________________________________________\n",
            "lstm_3 (LSTM)                (None, 196)               254800    \n",
            "_________________________________________________________________\n",
            "dense_3 (Dense)              (None, 2)                 394       \n",
            "=================================================================\n",
            "Total params: 511,194\n",
            "Trainable params: 511,194\n",
            "Non-trainable params: 0\n",
            "_________________________________________________________________\n"
          ],
          "name": "stdout"
        }
      ]
    },
    {
      "cell_type": "code",
      "metadata": {
        "id": "cT0O7mSsE-nh",
        "colab_type": "code",
        "outputId": "ff0a5c56-0d4e-480d-f0ad-baa6c89f6803",
        "colab": {
          "base_uri": "https://localhost:8080/",
          "height": 232
        }
      },
      "source": [
        "history = model.fit(X_train, Y_train, epochs=20, validation_split=0.25, callbacks=[tf.keras.callbacks.EarlyStopping(patience=3, monitor='val_loss')])"
      ],
      "execution_count": 0,
      "outputs": [
        {
          "output_type": "stream",
          "text": [
            "Train on 5391 samples, validate on 1797 samples\n",
            "Epoch 1/20\n",
            "5391/5391 [==============================] - 16s 3ms/sample - loss: 0.4663 - accuracy: 0.8041 - val_loss: 0.3988 - val_accuracy: 0.8408\n",
            "Epoch 2/20\n",
            "5391/5391 [==============================] - 14s 3ms/sample - loss: 0.3286 - accuracy: 0.8629 - val_loss: 0.3750 - val_accuracy: 0.8492\n",
            "Epoch 3/20\n",
            "5391/5391 [==============================] - 13s 2ms/sample - loss: 0.2768 - accuracy: 0.8828 - val_loss: 0.3812 - val_accuracy: 0.8481\n",
            "Epoch 4/20\n",
            "5391/5391 [==============================] - 13s 2ms/sample - loss: 0.2488 - accuracy: 0.8958 - val_loss: 0.4126 - val_accuracy: 0.8414\n",
            "Epoch 5/20\n",
            "5391/5391 [==============================] - 13s 2ms/sample - loss: 0.2248 - accuracy: 0.9080 - val_loss: 0.4501 - val_accuracy: 0.8497\n"
          ],
          "name": "stdout"
        }
      ]
    },
    {
      "cell_type": "code",
      "metadata": {
        "id": "-rZABuSMH3eh",
        "colab_type": "code",
        "outputId": "ae718f83-d31d-465f-b6fb-f367f80d7980",
        "colab": {
          "base_uri": "https://localhost:8080/",
          "height": 283
        }
      },
      "source": [
        "import matplotlib.pyplot as plt\n",
        "\n",
        "plt.figure(figsize=(12,4))\n",
        "\n",
        "plt.subplot(1, 2, 1)\n",
        "plt.plot(history.history['loss'], 'b-', label='loss')\n",
        "plt.plot(history.history['val_loss'], 'r--', label='val_loss')\n",
        "plt.xlabel('Epoch')\n",
        "plt.legend()\n",
        "\n",
        "plt.subplot(1, 2, 2)\n",
        "plt.plot(history.history['accuracy'], 'g-', label='accuracy')\n",
        "plt.xlabel('Epoch')\n",
        "plt.ylim(0.7, 1)\n",
        "plt.legend()\n",
        "\n",
        "plt.show()"
      ],
      "execution_count": 0,
      "outputs": [
        {
          "output_type": "display_data",
          "data": {
            "image/png": "[encoded data removed]",
            "text/plain": [
              "<Figure size 864x288 with 2 Axes>"
            ]
          },
          "metadata": {
            "tags": []
          }
        }
      ]
    },
    {
      "cell_type": "code",
      "metadata": {
        "id": "xYaOOuyWFd94",
        "colab_type": "code",
        "outputId": "95533db7-9c0c-4dd5-d29f-8317d1aaded6",
        "colab": {
          "base_uri": "https://localhost:8080/",
          "height": 52
        }
      },
      "source": [
        "model.evaluate(X_test, Y_test, verbose=2, batch_size=32)"
      ],
      "execution_count": 0,
      "outputs": [
        {
          "output_type": "stream",
          "text": [
            "3541/3541 - 1s - loss: 0.4180 - accuracy: 0.8492\n"
          ],
          "name": "stdout"
        },
        {
          "output_type": "execute_result",
          "data": {
            "text/plain": [
              "[0.41802483543741, 0.8491951]"
            ]
          },
          "metadata": {
            "tags": []
          },
          "execution_count": 30
        }
      ]
    },
    {
      "cell_type": "code",
      "metadata": {
        "id": "a-2hkrL5FtMU",
        "colab_type": "code",
        "outputId": "8ced0948-1eed-4400-b706-ebefc071017e",
        "colab": {
          "base_uri": "https://localhost:8080/",
          "height": 88
        }
      },
      "source": [
        "ex1 = ['i hate him']\n",
        "ex2 = ['i love you']\n",
        "ex1 = tokenizer.texts_to_sequences(ex1)\n",
        "ex2 = tokenizer.texts_to_sequences(ex2)\n",
        "\n",
        "ex1 = tf.keras.preprocessing.sequence.pad_sequences(ex1, maxlen=28, dtype='int32', value=0)\n",
        "ex2 = tf.keras.preprocessing.sequence.pad_sequences(ex2, maxlen=28, dtype='int32', value=0)\n",
        "\n",
        "sentiment1 = model.predict(ex1,batch_size=1,verbose = 2)[0]\n",
        "if(np.argmax(sentiment1) == 0):\n",
        "    print(\"negative\")\n",
        "elif (np.argmax(sentiment1) == 1):\n",
        "    print(\"positive\")\n",
        "\n",
        "sentiment2 = model.predict(ex2,batch_size=1,verbose = 2)[0]\n",
        "if(np.argmax(sentiment2) == 0):\n",
        "    print(\"negative\")\n",
        "elif (np.argmax(sentiment2) == 1):\n",
        "    print(\"positive\")"
      ],
      "execution_count": 0,
      "outputs": [
        {
          "output_type": "stream",
          "text": [
            "1/1 - 0s\n",
            "negative\n",
            "1/1 - 0s\n",
            "positive\n"
          ],
          "name": "stdout"
        }
      ]
    },
    {
      "cell_type": "code",
      "metadata": {
        "id": "tJaH3J8QRIhF",
        "colab_type": "code",
        "colab": {}
      },
      "source": [
        ""
      ],
      "execution_count": 0,
      "outputs": []
    }
  ]
}