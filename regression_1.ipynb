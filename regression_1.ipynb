{
  "nbformat": 4,
  "nbformat_minor": 0,
  "metadata": {
    "colab": {
      "name": "regression_1.ipynb",
      "provenance": [],
      "authorship_tag": "ABX9TyM5X5IUr0JmFqOVnZ1W4vL0",
      "include_colab_link": true
    },
    "kernelspec": {
      "name": "python3",
      "display_name": "Python 3"
    },
    "accelerator": "GPU"
  },
  "cells": [
    {
      "cell_type": "markdown",
      "metadata": {
        "id": "view-in-github",
        "colab_type": "text"
      },
      "source": [
        "<a href=\"https://colab.research.google.com/github/harim4422/tensorflow2_deeplearning/blob/master/regression_1.ipynb\" target=\"_parent\"><img src=\"https://colab.research.google.com/assets/colab-badge.svg\" alt=\"Open In Colab\"/></a>"
      ]
    },
    {
      "cell_type": "code",
      "metadata": {
        "id": "CTTrvG9HxSjr",
        "colab_type": "code",
        "outputId": "c1896196-d5dd-44a1-e2ae-77a326fcbdf8",
        "colab": {
          "base_uri": "https://localhost:8080/",
          "height": 34
        }
      },
      "source": [
        "try:\n",
        "  %tensorflow_version 2.x\n",
        "except Exception:\n",
        "  pass"
      ],
      "execution_count": 0,
      "outputs": [
        {
          "output_type": "stream",
          "text": [
            "TensorFlow 2.x selected.\n"
          ],
          "name": "stdout"
        }
      ]
    },
    {
      "cell_type": "code",
      "metadata": {
        "id": "CgBVx8Hdxi62",
        "colab_type": "code",
        "colab": {}
      },
      "source": [
        "import tensorflow as tf\n",
        "import numpy as np\n",
        "import matplotlib.pyplot as plt"
      ],
      "execution_count": 0,
      "outputs": []
    },
    {
      "cell_type": "code",
      "metadata": {
        "id": "84VKNYyLxjpC",
        "colab_type": "code",
        "colab": {}
      },
      "source": [
        "x = 2 * np.random.rand(100, 1)\n",
        "y = 4 + 3 * x + np.random.randn(100, 1)"
      ],
      "execution_count": 0,
      "outputs": []
    },
    {
      "cell_type": "code",
      "metadata": {
        "id": "Tjd5ea2nyBAk",
        "colab_type": "code",
        "outputId": "c4d293b2-6a01-4b3e-ce0f-6a927e2fb378",
        "colab": {
          "base_uri": "https://localhost:8080/",
          "height": 265
        }
      },
      "source": [
        "plt.plot(x, y, 'bo')\n",
        "plt.show()"
      ],
      "execution_count": 0,
      "outputs": [
        {
          "output_type": "display_data",
          "data": {
            "image/png": "[encoded data removed]",
            "text/plain": [
              "<Figure size 432x288 with 1 Axes>"
            ]
          },
          "metadata": {
            "tags": []
          }
        }
      ]
    },
    {
      "cell_type": "markdown",
      "metadata": {
        "id": "Hbtcl8Vx0TCc",
        "colab_type": "text"
      },
      "source": [
        "# Numpy로 Linear Regression"
      ]
    },
    {
      "cell_type": "code",
      "metadata": {
        "id": "8va5Mv3BzM0K",
        "colab_type": "code",
        "outputId": "d9071ed7-3f9f-4ed0-e0d1-da05ed574f95",
        "colab": {
          "base_uri": "https://localhost:8080/",
          "height": 282
        }
      },
      "source": [
        "x_mean = sum(x) / len(x)\n",
        "y_mean = sum(y) / len(y)\n",
        "\n",
        "a = sum([(x_ - x_mean) * (y_ - y_mean) for x_, y_ in list(zip(x, y))])\n",
        "a /= sum([(x_ - x_mean) ** 2 for x_ in x])\n",
        "b = y_mean - a * x_mean\n",
        "print('a:', a, 'b:', b)\n",
        "\n",
        "x_pred = np.arange(min(x), max(x), 0.01)\n",
        "y_pred = a * x_pred + b\n",
        "\n",
        "plt.plot(x_pred, y_pred, 'r-')\n",
        "plt.plot(x,y,'bo')\n",
        "plt.show()"
      ],
      "execution_count": 0,
      "outputs": [
        {
          "output_type": "stream",
          "text": [
            "a: [2.88271234] b: [4.07837097]\n"
          ],
          "name": "stdout"
        },
        {
          "output_type": "display_data",
          "data": {
            "image/png": "[encoded data removed]",
            "text/plain": [
              "<Figure size 432x288 with 1 Axes>"
            ]
          },
          "metadata": {
            "tags": []
          }
        }
      ]
    },
    {
      "cell_type": "markdown",
      "metadata": {
        "id": "Hgl_siVX0Yq8",
        "colab_type": "text"
      },
      "source": [
        "# Tensorflow로 Linear Regression"
      ]
    },
    {
      "cell_type": "code",
      "metadata": {
        "id": "d9XicahO0dys",
        "colab_type": "code",
        "outputId": "5af4cc3a-5eaa-447e-ac7f-ed791731a1d3",
        "colab": {
          "base_uri": "https://localhost:8080/",
          "height": 193
        }
      },
      "source": [
        "import random\n",
        "\n",
        "w = tf.Variable(random.random())\n",
        "b = tf.Variable(random.random())\n",
        "\n",
        "def residue():\n",
        "  y_pred = w * x + b\n",
        "  loss = tf.reduce_mean((y - y_pred) ** 2)\n",
        "  return loss\n",
        "\n",
        "optimizer = tf.optimizers.Adam(lr=0.07)\n",
        "for i in range(1000):\n",
        "  optimizer.minimize(residue, var_list=[w,b])\n",
        "\n",
        "  if i % 100 == 99:\n",
        "    print(i, 'w:', w.numpy(), 'b:', b.numpy(), 'loss:', residue().numpy())"
      ],
      "execution_count": 0,
      "outputs": [
        {
          "output_type": "stream",
          "text": [
            "99 w: 3.3649647 b: 3.5312543 loss: 1.1030277\n",
            "199 w: 3.1546128 b: 3.7345388 loss: 1.0463868\n",
            "299 w: 3.018664 b: 3.906372 loss: 1.0241587\n",
            "399 w: 2.9404671 b: 4.005304 loss: 1.0180821\n",
            "499 w: 2.9036736 b: 4.051852 loss: 1.0169202\n",
            "599 w: 2.8892155 b: 4.0701437 loss: 1.016761\n",
            "699 w: 2.88443 b: 4.076198 loss: 1.0167451\n",
            "799 w: 2.883097 b: 4.077884 loss: 1.016744\n",
            "899 w: 2.8827848 b: 4.07828 loss: 1.016744\n",
            "999 w: 2.8827243 b: 4.0783553 loss: 1.016744\n"
          ],
          "name": "stdout"
        }
      ]
    },
    {
      "cell_type": "code",
      "metadata": {
        "id": "NYhUgbp66UyW",
        "colab_type": "code",
        "outputId": "82502448-5d1e-40cb-a162-5ec5f2e7de78",
        "colab": {
          "base_uri": "https://localhost:8080/",
          "height": 265
        }
      },
      "source": [
        "x_pred = np.arange(min(x), max(x), 0.01)\n",
        "y_pred = w * x_pred + b\n",
        "\n",
        "plt.plot(x_pred, y_pred, 'r-')\n",
        "plt.plot(x, y, 'bo')\n",
        "plt.show()"
      ],
      "execution_count": 0,
      "outputs": [
        {
          "output_type": "display_data",
          "data": {
            "image/png": "[encoded data removed]",
            "text/plain": [
              "<Figure size 432x288 with 1 Axes>"
            ]
          },
          "metadata": {
            "tags": []
          }
        }
      ]
    },
    {
      "cell_type": "markdown",
      "metadata": {
        "id": "6vWMgmEIzNT4",
        "colab_type": "text"
      },
      "source": [
        "# sklearn로 Regression"
      ]
    },
    {
      "cell_type": "code",
      "metadata": {
        "id": "TogOOydnySCW",
        "colab_type": "code",
        "outputId": "48bde878-9521-4bf9-db28-17df7a4c0e5a",
        "colab": {
          "base_uri": "https://localhost:8080/",
          "height": 34
        }
      },
      "source": [
        "from sklearn.linear_model import LinearRegression\n",
        "\n",
        "lin_reg = LinearRegression()\n",
        "lin_reg.fit(x, y)\n",
        "print(lin_reg.intercept_, lin_reg.coef_)"
      ],
      "execution_count": 0,
      "outputs": [
        {
          "output_type": "stream",
          "text": [
            "[4.07837097] [[2.88271234]]\n"
          ],
          "name": "stdout"
        }
      ]
    },
    {
      "cell_type": "code",
      "metadata": {
        "id": "3qOKfRdLzJ4D",
        "colab_type": "code",
        "outputId": "aee64243-d1f6-4aea-a722-f0bb8aa6e707",
        "colab": {
          "base_uri": "https://localhost:8080/",
          "height": 52
        }
      },
      "source": [
        "x_b = np.c_[np.ones((100, 1)), x]\n",
        "theta_b = np.linalg.inv(x_b.T.dot(x_b)).dot(x_b.T).dot(y)\n",
        "print(theta_b)"
      ],
      "execution_count": 0,
      "outputs": [
        {
          "output_type": "stream",
          "text": [
            "[[4.07837097]\n",
            " [2.88271234]]\n"
          ],
          "name": "stdout"
        }
      ]
    },
    {
      "cell_type": "code",
      "metadata": {
        "id": "4_0LTGB6zDj5",
        "colab_type": "code",
        "outputId": "fae48b12-d1b4-4df3-c10b-501d6d7b9351",
        "colab": {
          "base_uri": "https://localhost:8080/",
          "height": 265
        }
      },
      "source": [
        "x_pred = np.array([[0], [2]])\n",
        "y_pred = lin_reg.predict(x_pred)\n",
        "\n",
        "plt.plot(x, y, 'bo')\n",
        "plt.plot(x_pred, y_pred, 'r-')\n",
        "plt.show()"
      ],
      "execution_count": 0,
      "outputs": [
        {
          "output_type": "display_data",
          "data": {
            "image/png": "[encoded data removed]",
            "text/plain": [
              "<Figure size 432x288 with 1 Axes>"
            ]
          },
          "metadata": {
            "tags": []
          }
        }
      ]
    },
    {
      "cell_type": "code",
      "metadata": {
        "id": "eMqkIo-dQ16b",
        "colab_type": "code",
        "outputId": "a22fcfcf-a8e0-478a-f6de-0a8c5189a257",
        "colab": {
          "base_uri": "https://localhost:8080/",
          "height": 34
        }
      },
      "source": [
        "try:\n",
        "  %tensorflow_version 2.x\n",
        "except Exception:\n",
        "  pass"
      ],
      "execution_count": 0,
      "outputs": [
        {
          "output_type": "stream",
          "text": [
            "TensorFlow 2.x selected.\n"
          ],
          "name": "stdout"
        }
      ]
    },
    {
      "cell_type": "code",
      "metadata": {
        "id": "-RbFi9glowdD",
        "colab_type": "code",
        "outputId": "f995107f-d8fb-47d4-9d90-ea2a98216aac",
        "colab": {
          "base_uri": "https://localhost:8080/",
          "height": 265
        }
      },
      "source": [
        "import tensorflow as tf\n",
        "import numpy as np\n",
        "import matplotlib.pyplot as plt\n",
        "\n",
        "x = 2 * np.random.rand(100, 1)\n",
        "y = 6 * x**2 + 3 * x + 4 + np.random.randn(100, 1)\n",
        "plt.plot(x, y, 'bo')\n",
        "plt.show()"
      ],
      "execution_count": 0,
      "outputs": [
        {
          "output_type": "display_data",
          "data": {
            "image/png": "[encoded data removed]",
            "text/plain": [
              "<Figure size 432x288 with 1 Axes>"
            ]
          },
          "metadata": {
            "tags": []
          }
        }
      ]
    },
    {
      "cell_type": "code",
      "metadata": {
        "id": "nBa-Fx-ePCB8",
        "colab_type": "code",
        "outputId": "4decebc6-eb0e-45a0-9a03-3298c70f78f2",
        "colab": {
          "base_uri": "https://localhost:8080/",
          "height": 193
        }
      },
      "source": [
        "import random\n",
        "\n",
        "w = tf.Variable(random.random())\n",
        "b = tf.Variable(random.random())\n",
        "c = tf.Variable(random.random())\n",
        "\n",
        "def residue():\n",
        "  y_pred = w * x**2 + b * x + c\n",
        "  loss = tf.reduce_mean((y - y_pred) ** 2)\n",
        "  return loss\n",
        "\n",
        "optimizer = tf.optimizers.Adam(lr=0.07)\n",
        "for i in range(1000):\n",
        "  optimizer.minimize(residue, var_list=[w,b,c])\n",
        "\n",
        "  if i % 100 == 99:\n",
        "    print(i, 'w:', w.numpy(), 'b:', b.numpy(), 'c:', c.numpy(), 'loss:', residue().numpy())"
      ],
      "execution_count": 0,
      "outputs": [
        {
          "output_type": "stream",
          "text": [
            "99 w: 4.488907 b: 4.2656493 c: 4.877994 loss: 1.9493985\n",
            "199 w: 4.8171506 b: 4.350337 c: 4.4765873 loss: 1.3733585\n",
            "299 w: 5.0291886 b: 4.3406863 c: 4.0960383 loss: 1.131375\n",
            "399 w: 5.1746855 b: 4.310568 c: 3.8636954 loss: 1.048434\n",
            "499 w: 5.266534 b: 4.263898 c: 3.751948 loss: 1.0246763\n",
            "599 w: 5.326107 b: 4.2054825 c: 3.7150164 loss: 1.0161349\n",
            "699 w: 5.3703814 b: 4.139194 c: 3.7164593 loss: 1.0103642\n",
            "799 w: 5.4091444 b: 4.0675817 c: 3.7348676 loss: 1.0049325\n",
            "899 w: 5.4468184 b: 3.9922056 c: 3.7600534 loss: 0.9995567\n",
            "999 w: 5.484923 b: 3.9140928 c: 3.7878945 loss: 0.9942758\n"
          ],
          "name": "stdout"
        }
      ]
    },
    {
      "cell_type": "code",
      "metadata": {
        "id": "DbPP1oYcRcVv",
        "colab_type": "code",
        "outputId": "d3ce1feb-340f-4d37-f8d1-3edafb8f2cbe",
        "colab": {
          "base_uri": "https://localhost:8080/",
          "height": 265
        }
      },
      "source": [
        "x_pred = np.arange(min(x), max(x), 0.01)\n",
        "y_pred = w * x_pred * x_pred + b * x_pred + c\n",
        "\n",
        "plt.plot(x_pred, y_pred, 'r-')\n",
        "plt.plot(x, y, 'bo')\n",
        "plt.show()"
      ],
      "execution_count": 0,
      "outputs": [
        {
          "output_type": "display_data",
          "data": {
            "image/png": "[encoded data removed]",
            "text/plain": [
              "<Figure size 432x288 with 1 Axes>"
            ]
          },
          "metadata": {
            "tags": []
          }
        }
      ]
    },
    {
      "cell_type": "code",
      "metadata": {
        "id": "adsPgAZXUTfq",
        "colab_type": "code",
        "outputId": "5017be0e-791e-484d-8421-d601bfe10d42",
        "colab": {
          "base_uri": "https://localhost:8080/",
          "height": 34
        }
      },
      "source": [
        "from sklearn.preprocessing import PolynomialFeatures\n",
        "from sklearn.linear_model import LinearRegression\n",
        "\n",
        "poly_features = PolynomialFeatures(degree = 2, include_bias=True)\n",
        "x_poly = poly_features.fit_transform(x)\n",
        "\n",
        "lin_reg = LinearRegression()\n",
        "lin_reg.fit(x_poly, y)\n",
        "print(lin_reg.intercept_, lin_reg.coef_)"
      ],
      "execution_count": 0,
      "outputs": [
        {
          "output_type": "stream",
          "text": [
            "[4.30839901] [[0.         2.48175671 6.17826713]]\n"
          ],
          "name": "stdout"
        }
      ]
    },
    {
      "cell_type": "code",
      "metadata": {
        "id": "J9zCdB0gUlCI",
        "colab_type": "code",
        "outputId": "52e7da30-69e0-4fd9-98b8-a7628aad637d",
        "colab": {
          "base_uri": "https://localhost:8080/",
          "height": 265
        }
      },
      "source": [
        "x_new = np.linspace(0, 2, 100).reshape(100,1)\n",
        "x_new_poly = poly_features.transform(x_new)\n",
        "y_predict = lin_reg.predict(x_new_poly)\n",
        "\n",
        "plt.plot(x_new, y_predict, \"r-\")\n",
        "plt.plot(x, y, \"bo\")\n",
        "plt.show()"
      ],
      "execution_count": 0,
      "outputs": [
        {
          "output_type": "display_data",
          "data": {
            "image/png": "[encoded data removed]",
            "text/plain": [
              "<Figure size 432x288 with 1 Axes>"
            ]
          },
          "metadata": {
            "tags": []
          }
        }
      ]
    }
  ]
}